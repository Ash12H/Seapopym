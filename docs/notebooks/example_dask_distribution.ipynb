{
 "cells": [
  {
   "cell_type": "markdown",
   "metadata": {},
   "source": [
    "# How to distribute simulation across multiple processors\n"
   ]
  },
  {
   "cell_type": "code",
   "execution_count": null,
   "metadata": {},
   "outputs": [],
   "source": [
    "import matplotlib.pyplot as plt\n",
    "import numpy as np\n",
    "import pandas as pd\n",
    "import xarray as xr\n",
    "\n",
    "from seapopym.configuration.no_transport import (\n",
    "    ForcingParameter,\n",
    "    ForcingUnit,\n",
    "    FunctionalGroupParameter,\n",
    "    FunctionalGroupUnit,\n",
    "    FunctionalTypeParameter,\n",
    "    MigratoryTypeParameter,\n",
    "    NoTransportConfiguration,\n",
    ")\n",
    "from seapopym.model import NoTransportModel\n",
    "from seapopym.standard.coordinate_authority import (\n",
    "    create_latitude_coordinate,\n",
    "    create_layer_coordinate,\n",
    "    create_longitude_coordinate,\n",
    "    create_time_coordinate,\n",
    ")\n",
    "from seapopym.standard.units import StandardUnitsLabels\n"
   ]
  },
  {
   "cell_type": "markdown",
   "metadata": {},
   "source": [
    "## Initialize the dask client\n"
   ]
  },
  {
   "cell_type": "code",
   "execution_count": null,
   "metadata": {},
   "outputs": [],
   "source": [
    "from dask.distributed import Client\n",
    "\n",
    "client = Client(\n",
    "    memory_limit=\"500MiB\",\n",
    ")\n",
    "client\n"
   ]
  },
  {
   "cell_type": "markdown",
   "metadata": {},
   "source": [
    "## Generating data for the 1D simulation\n",
    "\n",
    "Let's generate some data for the 1D simulation. In this NoTransport model, only temperature and primary production are required. The temperature is generated as a sine wave with a period of 1 year and the primary production is randomly generated.\n"
   ]
  },
  {
   "cell_type": "code",
   "execution_count": null,
   "metadata": {},
   "outputs": [],
   "source": [
    "time_start = pd.Timestamp(\"2000-01-01\")\n",
    "time_end = pd.Timestamp(\"2020-01-01\")\n",
    "\n",
    "T_axis = create_time_coordinate(pd.date_range(time_start, time_end, freq=\"D\"))\n",
    "n = int(T_axis.size)\n",
    "t = np.linspace(0, 1, n)\n",
    "temperature = 15 + 15 * np.sin(2 * np.pi * t)\n",
    "primary_production = 10 + 5 * np.sin(2 * np.pi * t * 365)\n",
    "\n",
    "temperature = xr.DataArray(\n",
    "    dims=[\"T\", \"Y\", \"X\", \"Z\"],\n",
    "    coords={\n",
    "        \"T\": create_time_coordinate(pd.date_range(time_start, time_end, freq=\"D\")),\n",
    "        \"Y\": create_latitude_coordinate([0]),\n",
    "        \"X\": create_longitude_coordinate([0]),\n",
    "        \"Z\": create_layer_coordinate([0]),\n",
    "    },\n",
    "    attrs={\"units\": StandardUnitsLabels.temperature},\n",
    "    data=temperature[:, np.newaxis, np.newaxis, np.newaxis],\n",
    ")\n",
    "\n",
    "plt.figure(figsize=(9, 3))\n",
    "temperature[:, 0, 0].cf.plot.line(x=\"T\")\n",
    "plt.title(\"Temperature\")\n",
    "plt.show()\n",
    "\n",
    "primary_production = xr.DataArray(\n",
    "    dims=[\"T\", \"Y\", \"X\"],\n",
    "    coords={\n",
    "        \"T\": create_time_coordinate(pd.date_range(time_start, time_end, freq=\"D\")),\n",
    "        \"Y\": create_latitude_coordinate([0]),\n",
    "        \"X\": create_longitude_coordinate([0]),\n",
    "    },\n",
    "    attrs={\"units\": StandardUnitsLabels.production},\n",
    "    data=np.random.rand(create_time_coordinate(pd.date_range(time_start, time_end, freq=\"D\")).size, 1, 1),\n",
    ")\n",
    "\n",
    "plt.figure(figsize=(9, 3))\n",
    "primary_production.plot()\n",
    "plt.title(\"Primary Production\")\n",
    "plt.show()\n",
    "\n",
    "dataset = xr.Dataset({\"temperature\": temperature, \"primary_production\": primary_production})"
   ]
  },
  {
   "cell_type": "markdown",
   "metadata": {},
   "source": [
    "## Create the forcing parameter\n"
   ]
  },
  {
   "cell_type": "code",
   "execution_count": null,
   "metadata": {},
   "outputs": [],
   "source": [
    "p_param = ForcingParameter(\n",
    "    temperature=ForcingUnit(forcing=dataset[\"temperature\"]),\n",
    "    primary_production=ForcingUnit(forcing=dataset[\"primary_production\"]),\n",
    ")"
   ]
  },
  {
   "cell_type": "markdown",
   "metadata": {},
   "source": [
    "## Scatter the forcing to the workers (each worker will have its own copy)\n"
   ]
  },
  {
   "cell_type": "code",
   "execution_count": null,
   "metadata": {},
   "outputs": [],
   "source": [
    "scattered_forcing = client.scatter(p_param, broadcast=True)\n"
   ]
  },
  {
   "cell_type": "markdown",
   "metadata": {},
   "source": [
    "## Simulation function\n"
   ]
  },
  {
   "cell_type": "code",
   "execution_count": null,
   "metadata": {},
   "outputs": [],
   "source": [
    "def optimized_simulation_function(args):\n",
    "    x, forcing_param = args\n",
    "\n",
    "    f_groups = generate_fg_config(x)\n",
    "    config = NoTransportConfiguration(forcing=forcing_param, functional_group=f_groups)\n",
    "\n",
    "    with NoTransportModel.from_configuration(config) as model:\n",
    "        model.run()\n",
    "        mean_biomass = model.state[\"biomass\"].mean().load()\n",
    "    return mean_biomass\n"
   ]
  },
  {
   "cell_type": "markdown",
   "metadata": {},
   "source": [
    "## Generate all the configurations\n"
   ]
  },
  {
   "cell_type": "code",
   "execution_count": null,
   "metadata": {},
   "outputs": [],
   "source": [
    "def generate_fg_config(x):\n",
    "    day_layer = 0\n",
    "    night_layer = 0\n",
    "    tr_0 = (x % 50) + 1\n",
    "    gamma_tr = -0.11\n",
    "    lambda_temperature_0 = 1 / 150\n",
    "    gamma_lambda_temperature = 0.15\n",
    "\n",
    "    f_groups = FunctionalGroupParameter(\n",
    "        functional_group=[\n",
    "            FunctionalGroupUnit(\n",
    "                name=f\"D{day_layer}N{night_layer}\",\n",
    "                energy_transfert=0.1668,\n",
    "                migratory_type=MigratoryTypeParameter(day_layer=day_layer, night_layer=night_layer),\n",
    "                functional_type=FunctionalTypeParameter(\n",
    "                    lambda_temperature_0=lambda_temperature_0,\n",
    "                    gamma_lambda_temperature=gamma_lambda_temperature,\n",
    "                    tr_0=tr_0,\n",
    "                    gamma_tr=gamma_tr,\n",
    "                ),\n",
    "            ),\n",
    "            FunctionalGroupUnit(\n",
    "                name=f\"D{day_layer}N{night_layer}_BIS\",\n",
    "                energy_transfert=0.1668 / 2,\n",
    "                migratory_type=MigratoryTypeParameter(day_layer=day_layer, night_layer=night_layer),\n",
    "                functional_type=FunctionalTypeParameter(\n",
    "                    lambda_temperature_0=lambda_temperature_0 / 2,\n",
    "                    gamma_lambda_temperature=gamma_lambda_temperature / 2,\n",
    "                    tr_0=tr_0,\n",
    "                    gamma_tr=gamma_tr / 2,\n",
    "                ),\n",
    "            ),\n",
    "        ],\n",
    "    )\n",
    "    return f_groups\n"
   ]
  },
  {
   "cell_type": "code",
   "execution_count": null,
   "metadata": {},
   "outputs": [],
   "source": [
    "simulation_args = [(x, scattered_forcing) for x in range(1000)]"
   ]
  },
  {
   "cell_type": "markdown",
   "metadata": {},
   "source": [
    "## Finally, run the simulations\n",
    "\n",
    "Follow the execution with the Dask client dashboard.\n"
   ]
  },
  {
   "cell_type": "code",
   "execution_count": null,
   "metadata": {},
   "outputs": [],
   "source": [
    "result = client.map(optimized_simulation_function, simulation_args)\n",
    "result = client.gather(result)"
   ]
  }
 ],
 "metadata": {
  "kernelspec": {
   "display_name": "seapopym-py3.12",
   "language": "python",
   "name": "python3"
  },
  "language_info": {
   "codemirror_mode": {
    "name": "ipython",
    "version": 3
   },
   "file_extension": ".py",
   "mimetype": "text/x-python",
   "name": "python",
   "nbconvert_exporter": "python",
   "pygments_lexer": "ipython3",
   "version": "3.12.11"
  }
 },
 "nbformat": 4,
 "nbformat_minor": 2
}
