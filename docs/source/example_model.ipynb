{
 "cells": [
  {
   "cell_type": "markdown",
   "metadata": {},
   "source": [
    "# A simple model implementation\n"
   ]
  },
  {
   "cell_type": "code",
   "execution_count": null,
   "metadata": {},
   "outputs": [],
   "source": [
    "import warnings\n",
    "\n",
    "import matplotlib.pyplot as plt\n",
    "import numpy as np\n",
    "import xarray as xr\n",
    "\n",
    "from seapopym.configuration.no_transport.parameter import ForcingParameters, FunctionalGroups, NoTransportParameters\n",
    "from seapopym.configuration.parameters.parameter_environment import (\n",
    "    ChunkParameter,\n",
    "    ClientParameter,\n",
    "    EnvironmentParameter,\n",
    "    OutputParameter,\n",
    "    PreProductionParameter,\n",
    ")\n",
    "from seapopym.configuration.parameters.parameter_forcing import ForcingUnit\n",
    "from seapopym.configuration.parameters.parameter_functional_group import (\n",
    "    FunctionalGroupUnit,\n",
    "    FunctionalGroupUnitMigratoryParameters,\n",
    "    FunctionalGroupUnitRelationParameters,\n",
    ")\n",
    "from seapopym.logging.custom_logger import set_critical, set_debug, set_error, set_verbose, set_warning\n",
    "from seapopym.model.no_transport_model import NoTransportModel\n",
    "from seapopym.standard.units import StandardUnitsLabels"
   ]
  },
  {
   "cell_type": "code",
   "execution_count": null,
   "metadata": {},
   "outputs": [],
   "source": [
    "path_forcing = (\n",
    "    \"/Users/ash/Documents/Workspaces/Data/phd/cmems_mod_glo_bgc_my_0.083deg-lmtl-Fphy_PT1D-i_1709010880580.nc\"\n",
    ")\n",
    "path_bio = \"/Users/ash/Documents/Workspaces/Data/phd/cmems_mod_glo_bgc_my_0.083deg-lmtl_PT1D-i_1709007157635.nc\""
   ]
  },
  {
   "cell_type": "code",
   "execution_count": null,
   "metadata": {},
   "outputs": [],
   "source": [
    "path_forcing = (\n",
    "    \"/Users/ash/Documents/Workspaces/Data/phd/cmems_mod_glo_bgc_my_0.083deg-lmtl-Fphy_PT1D-i_1709010880580.nc\"\n",
    ")\n",
    "forcing = xr.open_dataset(path_forcing)\n",
    "forcing[\"T\"].attrs[\"units\"] = StandardUnitsLabels.temperature.units\n",
    "forcing"
   ]
  },
  {
   "cell_type": "code",
   "execution_count": null,
   "metadata": {},
   "outputs": [],
   "source": [
    "path_bio = \"/Users/ash/Documents/Workspaces/Data/phd/cmems_mod_glo_bgc_my_0.083deg-lmtl_PT1D-i_1709007157635.nc\"\n",
    "bio = xr.open_dataset(path_bio)\n",
    "bio"
   ]
  },
  {
   "cell_type": "markdown",
   "metadata": {},
   "source": [
    "> Set the verbosity of the program.\n"
   ]
  },
  {
   "cell_type": "code",
   "execution_count": null,
   "metadata": {},
   "outputs": [],
   "source": [
    "MODE = 4\n",
    "\n",
    "# ------------ #\n",
    "if MODE == 1:\n",
    "    set_debug()\n",
    "elif MODE == 2:\n",
    "    set_verbose()\n",
    "elif MODE == 3:\n",
    "    set_warning()\n",
    "elif MODE == 4:\n",
    "    set_error()\n",
    "    warnings.filterwarnings(\"ignore\")\n",
    "else:\n",
    "    set_critical()\n",
    "    warnings.filterwarnings(\"ignore\")"
   ]
  },
  {
   "cell_type": "markdown",
   "metadata": {},
   "source": [
    "## Initialize the functional groups\n"
   ]
  },
  {
   "cell_type": "code",
   "execution_count": null,
   "metadata": {},
   "outputs": [],
   "source": [
    "f_groups = []\n",
    "\n",
    "day_layer = 1\n",
    "night_layer = 1\n",
    "energy_transfert = 0.1668\n",
    "tr_max = 10.38\n",
    "tr_rate = -0.11\n",
    "inv_lambda_max = 150\n",
    "inv_lambda_rate = 0.15\n",
    "\n",
    "cohort_timesteps = [1] * np.ceil(tr_max).astype(int)\n",
    "\n",
    "fg_f_param = FunctionalGroupUnitRelationParameters(\n",
    "    inv_lambda_max=inv_lambda_max,\n",
    "    inv_lambda_rate=inv_lambda_rate,\n",
    "    temperature_recruitment_rate=tr_rate,\n",
    "    cohorts_timesteps=cohort_timesteps,\n",
    "    temperature_recruitment_max=tr_max,\n",
    ")\n",
    "fg_m_param = FunctionalGroupUnitMigratoryParameters(\n",
    "    day_layer=day_layer,\n",
    "    night_layer=night_layer,\n",
    ")\n",
    "f_groups.append(\n",
    "    FunctionalGroupUnit(\n",
    "        name=f\"D{day_layer}N{night_layer}\",\n",
    "        migratory_type=fg_m_param,\n",
    "        functional_type=fg_f_param,\n",
    "        energy_transfert=energy_transfert,\n",
    "    )\n",
    ")\n",
    "\n",
    "f_groups = FunctionalGroups(functional_groups=f_groups)"
   ]
  },
  {
   "cell_type": "code",
   "execution_count": null,
   "metadata": {},
   "outputs": [],
   "source": [
    "p_param = ForcingParameters(\n",
    "    temperature=ForcingUnit(forcing=forcing[\"T\"], resolution=0.08333),\n",
    "    primary_production=ForcingUnit(forcing=bio[\"npp\"], resolution=0.08333),\n",
    "    initial_condition_biomass=None,\n",
    "    initial_condition_production=None,\n",
    ")\n",
    "\n",
    "parameters = NoTransportParameters(\n",
    "    functional_groups_parameters=f_groups,\n",
    "    forcing_parameters=p_param,\n",
    "    environment_parameters=EnvironmentParameter(\n",
    "        chunk=ChunkParameter(functional_group=1, latitude=12),\n",
    "        client=ClientParameter(n_workers=1, threads_per_worker=1, memory_limit=\"6GB\"),\n",
    "        output=OutputParameter(pre_production=PreProductionParameter(timestamps=\"all\")),\n",
    "    ),\n",
    ")"
   ]
  },
  {
   "cell_type": "markdown",
   "metadata": {},
   "source": [
    "## Initialize the model\n"
   ]
  },
  {
   "cell_type": "code",
   "execution_count": null,
   "metadata": {},
   "outputs": [],
   "source": [
    "my_class = NoTransportModel(configuration=parameters)\n",
    "my_class.generate_configuration()\n",
    "my_class.state"
   ]
  },
  {
   "cell_type": "code",
   "execution_count": null,
   "metadata": {},
   "outputs": [],
   "source": [
    "my_class.initialize()\n",
    "my_class.client"
   ]
  },
  {
   "cell_type": "markdown",
   "metadata": {},
   "source": [
    "## Compute pre-production\n",
    "\n",
    "This part is computed before the production step. All part of the process that can be pre-computed in parallele should be done here.\n"
   ]
  },
  {
   "cell_type": "code",
   "execution_count": null,
   "metadata": {},
   "outputs": [],
   "source": [
    "my_class.pre_production()"
   ]
  },
  {
   "cell_type": "markdown",
   "metadata": {},
   "source": [
    "## Compute production\n",
    "\n",
    "This step is time dependent.\n"
   ]
  },
  {
   "cell_type": "code",
   "execution_count": null,
   "metadata": {},
   "outputs": [],
   "source": [
    "my_class.production()"
   ]
  },
  {
   "cell_type": "markdown",
   "metadata": {},
   "source": [
    "## Here we compute the output of the model\n"
   ]
  },
  {
   "cell_type": "code",
   "execution_count": null,
   "metadata": {},
   "outputs": [],
   "source": [
    "my_class.post_production()"
   ]
  },
  {
   "cell_type": "markdown",
   "metadata": {},
   "source": [
    "## Plotting the results\n"
   ]
  },
  {
   "cell_type": "code",
   "execution_count": null,
   "metadata": {},
   "outputs": [],
   "source": [
    "biomass_seapopym = my_class.state.biomass.load()\n",
    "biomass_lmtl = bio.zooc.pint.quantify().pint.to(StandardUnitsLabels.biomass.units).pint.dequantify()"
   ]
  },
  {
   "cell_type": "code",
   "execution_count": null,
   "metadata": {},
   "outputs": [],
   "source": [
    "(biomass_seapopym.cf.mean((\"X\", \"Y\"))).cf.plot.line(x=\"T\", hue=\"functional_group\", label=\"Zoo Seapopym\")\n",
    "(biomass_lmtl.cf.mean((\"X\", \"Y\"))).cf.plot.line(x=\"T\", label=\"Zoo LMTL\")\n",
    "plt.legend()\n",
    "plt.show()"
   ]
  }
 ],
 "metadata": {
  "kernelspec": {
   "display_name": ".venv",
   "language": "python",
   "name": "python3"
  },
  "language_info": {
   "codemirror_mode": {
    "name": "ipython",
    "version": 3
   },
   "file_extension": ".py",
   "mimetype": "text/x-python",
   "name": "python",
   "nbconvert_exporter": "python",
   "pygments_lexer": "ipython3",
   "version": "3.12.2"
  }
 },
 "nbformat": 4,
 "nbformat_minor": 2
}
